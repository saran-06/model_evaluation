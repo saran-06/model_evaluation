{
 "cells": [
  {
   "cell_type": "code",
   "execution_count": 201,
   "id": "b3dd2d5d",
   "metadata": {},
   "outputs": [
    {
     "name": "stdout",
     "output_type": "stream",
     "text": [
      "Requirement already satisfied: word2number in c:\\users\\saranya\\anaconda3\\lib\\site-packages (1.1)\n"
     ]
    }
   ],
   "source": [
    "# 202AD134-SARANYA P\n",
    "# LINEAR ,POLYNOMIAL REGRESSION\n",
    "\n",
    "import pandas as pd\n",
    "import numpy as np\n",
    "from sklearn import linear_model\n",
    "!pip install word2number\n",
    "from word2number import w2n\n",
    "from sklearn.model_selection import train_test_split"
   ]
  },
  {
   "cell_type": "code",
   "execution_count": 69,
   "id": "d51f4928",
   "metadata": {},
   "outputs": [],
   "source": [
    "df=pd.read_csv(\"C:\\\\Users\\\\Saranya\\\\Downloads\\\\house_prediction - house_prediction.csv\")"
   ]
  },
  {
   "cell_type": "code",
   "execution_count": 70,
   "id": "5934b582",
   "metadata": {},
   "outputs": [
    {
     "data": {
      "text/html": [
       "<div>\n",
       "<style scoped>\n",
       "    .dataframe tbody tr th:only-of-type {\n",
       "        vertical-align: middle;\n",
       "    }\n",
       "\n",
       "    .dataframe tbody tr th {\n",
       "        vertical-align: top;\n",
       "    }\n",
       "\n",
       "    .dataframe thead th {\n",
       "        text-align: right;\n",
       "    }\n",
       "</style>\n",
       "<table border=\"1\" class=\"dataframe\">\n",
       "  <thead>\n",
       "    <tr style=\"text-align: right;\">\n",
       "      <th></th>\n",
       "      <th>area</th>\n",
       "      <th>price</th>\n",
       "    </tr>\n",
       "  </thead>\n",
       "  <tbody>\n",
       "    <tr>\n",
       "      <th>0</th>\n",
       "      <td>1000</td>\n",
       "      <td>5000</td>\n",
       "    </tr>\n",
       "    <tr>\n",
       "      <th>1</th>\n",
       "      <td>2000</td>\n",
       "      <td>10000</td>\n",
       "    </tr>\n",
       "    <tr>\n",
       "      <th>2</th>\n",
       "      <td>3000</td>\n",
       "      <td>15000</td>\n",
       "    </tr>\n",
       "    <tr>\n",
       "      <th>3</th>\n",
       "      <td>4000</td>\n",
       "      <td>20000</td>\n",
       "    </tr>\n",
       "    <tr>\n",
       "      <th>4</th>\n",
       "      <td>5000</td>\n",
       "      <td>25000</td>\n",
       "    </tr>\n",
       "    <tr>\n",
       "      <th>5</th>\n",
       "      <td>6000</td>\n",
       "      <td>30000</td>\n",
       "    </tr>\n",
       "    <tr>\n",
       "      <th>6</th>\n",
       "      <td>7000</td>\n",
       "      <td>35000</td>\n",
       "    </tr>\n",
       "    <tr>\n",
       "      <th>7</th>\n",
       "      <td>8000</td>\n",
       "      <td>40000</td>\n",
       "    </tr>\n",
       "    <tr>\n",
       "      <th>8</th>\n",
       "      <td>9000</td>\n",
       "      <td>45000</td>\n",
       "    </tr>\n",
       "    <tr>\n",
       "      <th>9</th>\n",
       "      <td>10000</td>\n",
       "      <td>50000</td>\n",
       "    </tr>\n",
       "    <tr>\n",
       "      <th>10</th>\n",
       "      <td>11000</td>\n",
       "      <td>55000</td>\n",
       "    </tr>\n",
       "    <tr>\n",
       "      <th>11</th>\n",
       "      <td>12000</td>\n",
       "      <td>60000</td>\n",
       "    </tr>\n",
       "    <tr>\n",
       "      <th>12</th>\n",
       "      <td>1000000</td>\n",
       "      <td>5000000</td>\n",
       "    </tr>\n",
       "    <tr>\n",
       "      <th>13</th>\n",
       "      <td>2000000</td>\n",
       "      <td>10000000</td>\n",
       "    </tr>\n",
       "  </tbody>\n",
       "</table>\n",
       "</div>"
      ],
      "text/plain": [
       "       area     price\n",
       "0      1000      5000\n",
       "1      2000     10000\n",
       "2      3000     15000\n",
       "3      4000     20000\n",
       "4      5000     25000\n",
       "5      6000     30000\n",
       "6      7000     35000\n",
       "7      8000     40000\n",
       "8      9000     45000\n",
       "9     10000     50000\n",
       "10    11000     55000\n",
       "11    12000     60000\n",
       "12  1000000   5000000\n",
       "13  2000000  10000000"
      ]
     },
     "execution_count": 70,
     "metadata": {},
     "output_type": "execute_result"
    }
   ],
   "source": [
    "df"
   ]
  },
  {
   "cell_type": "code",
   "execution_count": 71,
   "id": "5b0aeacf",
   "metadata": {},
   "outputs": [
    {
     "data": {
      "text/plain": [
       "0         5000\n",
       "1        10000\n",
       "2        15000\n",
       "3        20000\n",
       "4        25000\n",
       "5        30000\n",
       "6        35000\n",
       "7        40000\n",
       "8        45000\n",
       "9        50000\n",
       "10       55000\n",
       "11       60000\n",
       "12     5000000\n",
       "13    10000000\n",
       "Name: price, dtype: int64"
      ]
     },
     "execution_count": 71,
     "metadata": {},
     "output_type": "execute_result"
    }
   ],
   "source": [
    "x=df[[\"area\"]]\n",
    "y=df[\"price\"]\n",
    "x_train,x_test,y_train,y_test=train_test_split(x,y,random_state=1,train_size=0.7)\n",
    "y"
   ]
  },
  {
   "cell_type": "code",
   "execution_count": 72,
   "id": "1f1c4e37",
   "metadata": {},
   "outputs": [
    {
     "data": {
      "text/plain": [
       "4        25000\n",
       "1        10000\n",
       "12     5000000\n",
       "0         5000\n",
       "13    10000000\n",
       "9        50000\n",
       "8        45000\n",
       "11       60000\n",
       "5        30000\n",
       "Name: price, dtype: int64"
      ]
     },
     "execution_count": 72,
     "metadata": {},
     "output_type": "execute_result"
    }
   ],
   "source": [
    "y_train"
   ]
  },
  {
   "cell_type": "code",
   "execution_count": 73,
   "id": "dec23bc5",
   "metadata": {},
   "outputs": [
    {
     "data": {
      "text/html": [
       "<div>\n",
       "<style scoped>\n",
       "    .dataframe tbody tr th:only-of-type {\n",
       "        vertical-align: middle;\n",
       "    }\n",
       "\n",
       "    .dataframe tbody tr th {\n",
       "        vertical-align: top;\n",
       "    }\n",
       "\n",
       "    .dataframe thead th {\n",
       "        text-align: right;\n",
       "    }\n",
       "</style>\n",
       "<table border=\"1\" class=\"dataframe\">\n",
       "  <thead>\n",
       "    <tr style=\"text-align: right;\">\n",
       "      <th></th>\n",
       "      <th>area</th>\n",
       "    </tr>\n",
       "  </thead>\n",
       "  <tbody>\n",
       "    <tr>\n",
       "      <th>3</th>\n",
       "      <td>4000</td>\n",
       "    </tr>\n",
       "    <tr>\n",
       "      <th>7</th>\n",
       "      <td>8000</td>\n",
       "    </tr>\n",
       "    <tr>\n",
       "      <th>6</th>\n",
       "      <td>7000</td>\n",
       "    </tr>\n",
       "    <tr>\n",
       "      <th>2</th>\n",
       "      <td>3000</td>\n",
       "    </tr>\n",
       "    <tr>\n",
       "      <th>10</th>\n",
       "      <td>11000</td>\n",
       "    </tr>\n",
       "  </tbody>\n",
       "</table>\n",
       "</div>"
      ],
      "text/plain": [
       "     area\n",
       "3    4000\n",
       "7    8000\n",
       "6    7000\n",
       "2    3000\n",
       "10  11000"
      ]
     },
     "execution_count": 73,
     "metadata": {},
     "output_type": "execute_result"
    }
   ],
   "source": [
    "x_test"
   ]
  },
  {
   "cell_type": "code",
   "execution_count": 74,
   "id": "66c76884",
   "metadata": {},
   "outputs": [],
   "source": [
    "reg=linear_model.LinearRegression()"
   ]
  },
  {
   "cell_type": "code",
   "execution_count": 75,
   "id": "6ae4e0a4",
   "metadata": {},
   "outputs": [
    {
     "data": {
      "text/plain": [
       "LinearRegression()"
      ]
     },
     "execution_count": 75,
     "metadata": {},
     "output_type": "execute_result"
    }
   ],
   "source": [
    "reg.fit(x_train,y_train)"
   ]
  },
  {
   "cell_type": "code",
   "execution_count": 76,
   "id": "111b0fb0",
   "metadata": {},
   "outputs": [],
   "source": [
    "y_pred=reg.predict(x_test)"
   ]
  },
  {
   "cell_type": "code",
   "execution_count": 77,
   "id": "06054ebf",
   "metadata": {},
   "outputs": [
    {
     "data": {
      "text/plain": [
       "array([5.0e+03, 1.0e+04, 1.5e+04, 2.0e+04, 2.5e+04, 3.0e+04, 3.5e+04,\n",
       "       4.0e+04, 4.5e+04, 5.0e+04, 5.5e+04, 6.0e+04, 5.0e+06, 1.0e+07])"
      ]
     },
     "execution_count": 77,
     "metadata": {},
     "output_type": "execute_result"
    }
   ],
   "source": [
    "y_pred_all=reg.predict(x)\n",
    "y_pred_all"
   ]
  },
  {
   "cell_type": "code",
   "execution_count": 78,
   "id": "e32cc4eb",
   "metadata": {},
   "outputs": [
    {
     "data": {
      "text/plain": [
       "<matplotlib.collections.PathCollection at 0x18b23537070>"
      ]
     },
     "execution_count": 78,
     "metadata": {},
     "output_type": "execute_result"
    },
    {
     "data": {
      "image/png": "[encoded data removed]",
      "text/plain": [
       "<Figure size 432x288 with 1 Axes>"
      ]
     },
     "metadata": {
      "needs_background": "light"
     },
     "output_type": "display_data"
    }
   ],
   "source": [
    "#resudial plots to find the model is biased or not\n",
    "import matplotlib.pyplot as plt \n",
    "resudial=abs(y-y_pred_all)\n",
    "plt.scatter(x,resudial)\n",
    "#random distribution un-biased model"
   ]
  },
  {
   "cell_type": "code",
   "execution_count": 79,
   "id": "2f0b34a8",
   "metadata": {},
   "outputs": [
    {
     "data": {
      "text/plain": [
       "4.602043190971017e-10"
      ]
     },
     "execution_count": 79,
     "metadata": {},
     "output_type": "execute_result"
    }
   ],
   "source": [
    "#evaluate model\n",
    "#mean absolute error\n",
    "#outliers doesn't affect\n",
    "from sklearn.metrics import mean_absolute_error\n",
    "error_val1=mean_absolute_error(y_test,y_pred)\n",
    "error_val1\n"
   ]
  },
  {
   "cell_type": "code",
   "execution_count": 80,
   "id": "6eee52ab",
   "metadata": {},
   "outputs": [
    {
     "data": {
      "text/plain": [
       "2.1179330927154733e-19"
      ]
     },
     "execution_count": 80,
     "metadata": {},
     "output_type": "execute_result"
    }
   ],
   "source": [
    "#mean squared error\n",
    "#outliers affect the score\n",
    "#units are not same as the feature unit\n",
    "from sklearn.metrics import mean_squared_error\n",
    "error_val2=mean_squared_error(y_test,y_pred)\n",
    "error_val2"
   ]
  },
  {
   "cell_type": "code",
   "execution_count": 91,
   "id": "6cf8fbef",
   "metadata": {},
   "outputs": [
    {
     "data": {
      "image/png": "[encoded data removed]",
      "text/plain": [
       "<Figure size 720x504 with 1 Axes>"
      ]
     },
     "metadata": {
      "needs_background": "light"
     },
     "output_type": "display_data"
    }
   ],
   "source": [
    "fig = plt.figure(figsize =(10, 7))\n",
    "ax=fig.add_axes([0,0,1,1])\n",
    "ax.boxplot(y)\n",
    "plt.show()\n",
    "#2 outliers"
   ]
  },
  {
   "cell_type": "code",
   "execution_count": 95,
   "id": "b3c83d27",
   "metadata": {},
   "outputs": [
    {
     "data": {
      "text/plain": [
       "4.602100708063083e-10"
      ]
     },
     "execution_count": 95,
     "metadata": {},
     "output_type": "execute_result"
    }
   ],
   "source": [
    "#root mean squared error\n",
    "import math\n",
    "from sklearn.metrics import mean_squared_error\n",
    "error_val3=mean_squared_error(y_test,y_pred)\n",
    "error_val3=math.sqrt(error_val3)\n",
    "error_val3"
   ]
  },
  {
   "cell_type": "code",
   "execution_count": 106,
   "id": "27918970",
   "metadata": {},
   "outputs": [
    {
     "data": {
      "text/plain": [
       "1.270759855629284e-18"
      ]
     },
     "execution_count": 106,
     "metadata": {},
     "output_type": "execute_result"
    }
   ],
   "source": [
    "#mae is not affected by otliers and distance is very small\n",
    "#mse is highly affected by outliers but distance is very high(distance - weightage for outliers)\n",
    "#huber function-The weightage is determined by user\n",
    "from scipy.special import huber\n",
    "val=huber(error_val2,6)\n",
    "val\n"
   ]
  },
  {
   "cell_type": "code",
   "execution_count": 159,
   "id": "eb468072",
   "metadata": {},
   "outputs": [],
   "source": [
    "delta1=1.5\n",
    "mse_huber1 = delta1 * (np.abs(x1) - 0.5 * delta1)\n",
    "mse_huber=np.square(x1)*0.5\n",
    "y_huber1 = np.where(np.abs(x1) <= delta1, mse_huber, mae_huber1)\n"
   ]
  },
  {
   "cell_type": "code",
   "execution_count": 160,
   "id": "ed263115",
   "metadata": {},
   "outputs": [],
   "source": [
    "x1 = np.arange(-100, 100, 1)\n",
    "y_mae = np.abs(x1)\n",
    "y_mse=np.square(x1)"
   ]
  },
  {
   "cell_type": "code",
   "execution_count": 161,
   "id": "328596dc",
   "metadata": {},
   "outputs": [
    {
     "data": {
      "image/png": "[encoded data removed]",
      "text/plain": [
       "<Figure size 432x288 with 1 Axes>"
      ]
     },
     "metadata": {
      "needs_background": "light"
     },
     "output_type": "display_data"
    }
   ],
   "source": [
    "plt.plot(x1, y_mae, \"blue\", label=\"MAE\")\n",
    "plt.plot(x1, y_mse, \"red\", label=\"MSE\")\n",
    "plt.plot(x1,y_huber1,\"green\",label=\"huber\")\n",
    "plt.legend(loc=\"lower right\")\n",
    "plt.axis([-20, 20, 0, 100])\n",
    "plt.show()\n",
    "#by huber function we can determine whether the ooutlier is important or not"
   ]
  },
  {
   "cell_type": "code",
   "execution_count": 208,
   "id": "d9963db8",
   "metadata": {},
   "outputs": [],
   "source": [
    "df2=pd.read_csv(\"C:\\\\Users\\\\Saranya\\\\Downloads\\\\predicted_house_price.csv\")"
   ]
  },
  {
   "cell_type": "code",
   "execution_count": 209,
   "id": "1cabd692",
   "metadata": {},
   "outputs": [
    {
     "data": {
      "text/html": [
       "<div>\n",
       "<style scoped>\n",
       "    .dataframe tbody tr th:only-of-type {\n",
       "        vertical-align: middle;\n",
       "    }\n",
       "\n",
       "    .dataframe tbody tr th {\n",
       "        vertical-align: top;\n",
       "    }\n",
       "\n",
       "    .dataframe thead th {\n",
       "        text-align: right;\n",
       "    }\n",
       "</style>\n",
       "<table border=\"1\" class=\"dataframe\">\n",
       "  <thead>\n",
       "    <tr style=\"text-align: right;\">\n",
       "      <th></th>\n",
       "      <th>Unnamed: 0</th>\n",
       "      <th>area</th>\n",
       "      <th>height_cus</th>\n",
       "      <th>prices</th>\n",
       "    </tr>\n",
       "  </thead>\n",
       "  <tbody>\n",
       "    <tr>\n",
       "      <th>0</th>\n",
       "      <td>0</td>\n",
       "      <td>6000</td>\n",
       "      <td>5.6</td>\n",
       "      <td>30000</td>\n",
       "    </tr>\n",
       "    <tr>\n",
       "      <th>1</th>\n",
       "      <td>1</td>\n",
       "      <td>7000</td>\n",
       "      <td>5.5</td>\n",
       "      <td>35000</td>\n",
       "    </tr>\n",
       "    <tr>\n",
       "      <th>2</th>\n",
       "      <td>2</td>\n",
       "      <td>8000</td>\n",
       "      <td>6.0</td>\n",
       "      <td>40000</td>\n",
       "    </tr>\n",
       "    <tr>\n",
       "      <th>3</th>\n",
       "      <td>3</td>\n",
       "      <td>9000</td>\n",
       "      <td>7.0</td>\n",
       "      <td>45000</td>\n",
       "    </tr>\n",
       "    <tr>\n",
       "      <th>4</th>\n",
       "      <td>4</td>\n",
       "      <td>10000</td>\n",
       "      <td>7.1</td>\n",
       "      <td>50000</td>\n",
       "    </tr>\n",
       "    <tr>\n",
       "      <th>5</th>\n",
       "      <td>5</td>\n",
       "      <td>1000000</td>\n",
       "      <td>6.8</td>\n",
       "      <td>5000000</td>\n",
       "    </tr>\n",
       "    <tr>\n",
       "      <th>6</th>\n",
       "      <td>6</td>\n",
       "      <td>1000</td>\n",
       "      <td>6.0</td>\n",
       "      <td>5000</td>\n",
       "    </tr>\n",
       "    <tr>\n",
       "      <th>7</th>\n",
       "      <td>7</td>\n",
       "      <td>2000</td>\n",
       "      <td>5.7</td>\n",
       "      <td>10000</td>\n",
       "    </tr>\n",
       "    <tr>\n",
       "      <th>8</th>\n",
       "      <td>8</td>\n",
       "      <td>3000</td>\n",
       "      <td>5.9</td>\n",
       "      <td>15000</td>\n",
       "    </tr>\n",
       "    <tr>\n",
       "      <th>9</th>\n",
       "      <td>9</td>\n",
       "      <td>4000</td>\n",
       "      <td>7.2</td>\n",
       "      <td>20000</td>\n",
       "    </tr>\n",
       "    <tr>\n",
       "      <th>10</th>\n",
       "      <td>10</td>\n",
       "      <td>5000</td>\n",
       "      <td>7.0</td>\n",
       "      <td>25000</td>\n",
       "    </tr>\n",
       "  </tbody>\n",
       "</table>\n",
       "</div>"
      ],
      "text/plain": [
       "    Unnamed: 0     area  height_cus   prices\n",
       "0            0     6000         5.6    30000\n",
       "1            1     7000         5.5    35000\n",
       "2            2     8000         6.0    40000\n",
       "3            3     9000         7.0    45000\n",
       "4            4    10000         7.1    50000\n",
       "5            5  1000000         6.8  5000000\n",
       "6            6     1000         6.0     5000\n",
       "7            7     2000         5.7    10000\n",
       "8            8     3000         5.9    15000\n",
       "9            9     4000         7.2    20000\n",
       "10          10     5000         7.0    25000"
      ]
     },
     "execution_count": 209,
     "metadata": {},
     "output_type": "execute_result"
    }
   ],
   "source": [
    "df2"
   ]
  },
  {
   "cell_type": "code",
   "execution_count": 263,
   "id": "cd92a666",
   "metadata": {},
   "outputs": [],
   "source": [
    "from sklearn.metrics import r2_score\n",
    "r2_score_reg=r2_score(y_pred,y_test)"
   ]
  },
  {
   "cell_type": "code",
   "execution_count": 247,
   "id": "f009e0ee",
   "metadata": {},
   "outputs": [],
   "source": [
    "x2= df2.iloc[:, :-1].values  \n",
    "y2= df2.iloc[:, 3].values \n",
    "x2=pd.DataFrame(x2,columns=[\"n\",\"area\",\"height_cus\"])\n",
    "y2=pd.DataFrame(y2,columns=[\"price\"]) \n",
    "y2\n",
    "x2=x2.drop(columns=[\"n\"])\n",
    "\n"
   ]
  },
  {
   "cell_type": "code",
   "execution_count": 248,
   "id": "bfb44695",
   "metadata": {},
   "outputs": [
    {
     "data": {
      "text/html": [
       "<div>\n",
       "<style scoped>\n",
       "    .dataframe tbody tr th:only-of-type {\n",
       "        vertical-align: middle;\n",
       "    }\n",
       "\n",
       "    .dataframe tbody tr th {\n",
       "        vertical-align: top;\n",
       "    }\n",
       "\n",
       "    .dataframe thead th {\n",
       "        text-align: right;\n",
       "    }\n",
       "</style>\n",
       "<table border=\"1\" class=\"dataframe\">\n",
       "  <thead>\n",
       "    <tr style=\"text-align: right;\">\n",
       "      <th></th>\n",
       "      <th>area</th>\n",
       "      <th>height_cus</th>\n",
       "    </tr>\n",
       "  </thead>\n",
       "  <tbody>\n",
       "    <tr>\n",
       "      <th>2</th>\n",
       "      <td>8000.0</td>\n",
       "      <td>6.0</td>\n",
       "    </tr>\n",
       "    <tr>\n",
       "      <th>3</th>\n",
       "      <td>9000.0</td>\n",
       "      <td>7.0</td>\n",
       "    </tr>\n",
       "    <tr>\n",
       "      <th>4</th>\n",
       "      <td>10000.0</td>\n",
       "      <td>7.1</td>\n",
       "    </tr>\n",
       "    <tr>\n",
       "      <th>9</th>\n",
       "      <td>4000.0</td>\n",
       "      <td>7.2</td>\n",
       "    </tr>\n",
       "  </tbody>\n",
       "</table>\n",
       "</div>"
      ],
      "text/plain": [
       "      area  height_cus\n",
       "2   8000.0         6.0\n",
       "3   9000.0         7.0\n",
       "4  10000.0         7.1\n",
       "9   4000.0         7.2"
      ]
     },
     "execution_count": 248,
     "metadata": {},
     "output_type": "execute_result"
    }
   ],
   "source": [
    "x2_train,x2_test,y2_train,y2_test=train_test_split(x2,y2,random_state=1,train_size=0.7)\n",
    "x2_test\n"
   ]
  },
  {
   "cell_type": "code",
   "execution_count": 249,
   "id": "01828864",
   "metadata": {},
   "outputs": [
    {
     "data": {
      "text/plain": [
       "LinearRegression()"
      ]
     },
     "execution_count": 249,
     "metadata": {},
     "output_type": "execute_result"
    }
   ],
   "source": [
    "reg2=linear_model.LinearRegression()\n",
    "reg2.fit(x2_train,y2_train)"
   ]
  },
  {
   "cell_type": "code",
   "execution_count": 261,
   "id": "3b795ece",
   "metadata": {},
   "outputs": [
    {
     "data": {
      "text/plain": [
       "(14, 1)"
      ]
     },
     "execution_count": 261,
     "metadata": {},
     "output_type": "execute_result"
    }
   ],
   "source": [
    "x.shape\n"
   ]
  },
  {
   "cell_type": "code",
   "execution_count": 255,
   "id": "727967b0",
   "metadata": {},
   "outputs": [
    {
     "data": {
      "text/plain": [
       "array([[40000.],\n",
       "       [45000.],\n",
       "       [50000.],\n",
       "       [20000.]])"
      ]
     },
     "execution_count": 255,
     "metadata": {},
     "output_type": "execute_result"
    }
   ],
   "source": [
    "y_pred2=reg2.predict(x2_test)\n",
    "y_pred2"
   ]
  },
  {
   "cell_type": "code",
   "execution_count": 256,
   "id": "caf9310c",
   "metadata": {},
   "outputs": [
    {
     "data": {
      "text/plain": [
       "1.0"
      ]
     },
     "execution_count": 256,
     "metadata": {},
     "output_type": "execute_result"
    }
   ],
   "source": [
    "#r2 score for new model which has unwanted feature\n",
    "from sklearn.metrics import r2_score\n",
    "r2_score(y_pred2,y2_test)\n",
    "#it gives same value so we beleive that our model is great but it is not true.so,use adjusted r2 score to determine the models performance"
   ]
  },
  {
   "cell_type": "code",
   "execution_count": 276,
   "id": "6befbfbd",
   "metadata": {},
   "outputs": [
    {
     "data": {
      "text/plain": [
       "0.0"
      ]
     },
     "execution_count": 276,
     "metadata": {},
     "output_type": "execute_result"
    }
   ],
   "source": [
    "\n",
    "#r2 score is 1 so answer is 0\n",
    "#if r2 score =0.8\n",
    "adj_r2_reg=(1-r2_score_reg)*(len(df)-1)/(len(df)-x.shape[1]-1)\n",
    "adj_r2_reg"
   ]
  },
  {
   "cell_type": "code",
   "execution_count": 279,
   "id": "d346120c",
   "metadata": {},
   "outputs": [
    {
     "data": {
      "text/plain": [
       "0.7833333333333333"
      ]
     },
     "execution_count": 279,
     "metadata": {},
     "output_type": "execute_result"
    }
   ],
   "source": [
    "r2_score_reg2=0.8\n",
    "adj_r2_reg=1-(1-r2_score_reg2)*(len(df)-1)/(len(df)-x.shape[1]-1)\n",
    "adj_r2_reg"
   ]
  },
  {
   "cell_type": "code",
   "execution_count": 280,
   "id": "be4e2b34",
   "metadata": {},
   "outputs": [
    {
     "data": {
      "text/plain": [
       "0.75"
      ]
     },
     "execution_count": 280,
     "metadata": {},
     "output_type": "execute_result"
    }
   ],
   "source": [
    "adj_r2_reg2=1-(1-r2_score_reg2)*(len(df2)-1)/(len(df2)-x2.shape[1]-1)\n",
    "adj_r2_reg2"
   ]
  },
  {
   "cell_type": "code",
   "execution_count": null,
   "id": "880683d7",
   "metadata": {},
   "outputs": [],
   "source": [
    "#the adjusted r2_score is decreased so ,the newly added column doesn't make any effect on target variable"
   ]
  }
 ],
 "metadata": {
  "kernelspec": {
   "display_name": "Python 3 (ipykernel)",
   "language": "python",
   "name": "python3"
  },
  "language_info": {
   "codemirror_mode": {
    "name": "ipython",
    "version": 3
   },
   "file_extension": ".py",
   "mimetype": "text/x-python",
   "name": "python",
   "nbconvert_exporter": "python",
   "pygments_lexer": "ipython3",
   "version": "3.9.12"
  }
 },
 "nbformat": 4,
 "nbformat_minor": 5
}
